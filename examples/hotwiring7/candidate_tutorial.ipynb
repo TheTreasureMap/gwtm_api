{
 "cells": [
  {
   "cell_type": "code",
   "execution_count": 1,
   "metadata": {},
   "outputs": [],
   "source": [
    "import warnings\n",
    "warnings.filterwarnings('ignore')\n",
    "\n",
    "MY_API_TOKEN = \"\"\n",
    "TEST_GRACEID = \"MS181101ab\""
   ]
  },
  {
   "cell_type": "markdown",
   "metadata": {},
   "source": [
    "### The Treasure Map API: Candidates\n",
    "\n",
    "\n",
    "### Candidate model\n",
    "The `gwtm_api.Candidate` model covers the absolute basic parameters of a photometric astronomical observation. But most importantly it requires an instrument footprint to already be established in the Treasure Map. This can be accomplished by having a valid account, and going to the [Submit Instrument](https://treasuremap.space/submit_instrument) page, and following the instructions there. \n",
    "\n",
    "The `gwtm_api.Candidate` fields are as follows:\n",
    "\n",
    "- `ra: float` - the Right Ascenscion (RA) of the pointing.\n",
    "- `dec: float` - the Declination (DEC) of the pointing.\n",
    "  - The `ra` and `dec` values can also be input as `position: str` that has the strict format of `\"POINT (ra dec)\"`.\n",
    "- `graceid: str` - the GW event graceid\n",
    "- `candidate_name: str` - the name of the candidate (not required)\n",
    "- `tns_name: str` - the name associataed if submitted to the Transient Name server (not required)\n",
    "- `tns_url: str` - the url associated to the TNS (not required)\n",
    "- `associated_galaxy: str` - the name of associated galaxy (not required)\n",
    "- `associated_galaxy_redshift: float` - the redshift of the associated galaxy (not required)\n",
    "- `associated_galaxy_distance: float` - the distance of the associated galaxy (not required)\n",
    "- `discovery_date: str | datetime` - the UTC time associated with the candidate discovery. The string format of the time `%Y-%m-%dT%H:%M:%S.%f` format. e.g. `\"2019-05-01T12:00:00.00\"`. Otherwise `datetime.datetime` will be converted to that format. \n",
    "- `discovery_magnitude: float` - the apparent magnitude of the candidate at discovery\n",
    "- `magnitude_unit: str | gwtm_api.enums.depth_unit` - the discovery magnitude unit. Can be: `ab_mag`, `vega_ma\"`, `flux_erg`, or `flux_jy`.\n",
    "- **Bandpass Information** can be passed in by stating the band, or the range of wavelengths, energies, or frequencies the pointing covers. If your pointing is associated with a bandpass, we will calculate the wavelength range from a generic set of filters from [SVO](http://svo2.cab.inta-csic.es/theory/fps/index.php?asttype=astro)\n",
    "  - *Method 1*: Bandpass list\n",
    "    - `magnitude_bandpass: str | gwtm_api.enums.bandpass` - the name of the bandpass. Can be one of: `U`, `B`, `V`, `R`, `I`, `J`, `H`, `K`, `u`, `g`, `r`, `i`, `z`, `UVW1`, `UVW2`, `XRT`, `clear`, `open`, `UHF`, `VHF`, `L`, `S`, `C`, `X`, `other`, `TESS`, `BAT`, `HESS`, `WISEL`, and `q`\n",
    "  - *Method 2*: Central Wavelength and Bandwidth\n",
    "    - `magnitude_central_wave: float` - the central wavelength in Angstroms\n",
    "    - `magnitude_bandwidth: float` - the bandwidth in Angstroms\n",
    "  - *Method 3*: Spectrum Regimes: There are 3 ways to submit a spectrum regime for your associated pointing. By stating the wavelength, energy, or frequency regimes along with their associated units\n",
    "    - `wavelength_regime: list[float]` - the begin and endpoints of the wavelength bandwidth e.g. `[low, high]`\n",
    "    - `wavelength_unit: str | gwtm_api.enums.wavelength_units` - valid inputs are `angstrom`, `nanometer` or `micron`\n",
    "    - or `energy_regime: list[float]` - the begin and endpoints of the energy bandwidth e.g. `[low, high]`\n",
    "    - with `energy_unit: str | gwtm_api.enums.energy_units` - valid inputs are: `eV`, `keV`, `MeV`, `GeV`, and `TeV`\n",
    "    - or `frequency_regime: list[float]` - the begin and endpoints of the frequency bandwidth e.g, `[low, high]`\n",
    "    - with `frequench_unit: str | gwtm_api.enums.frequency_units` - valid inputs are: `Hz`, `kHz`, `MHz`, `GHz` and `THz`\n",
    "\n",
    "### Using the gwtm_api.Candidate api_wrapper.\n",
    "##### Instantiating a single Candidate and posting"
   ]
  },
  {
   "cell_type": "code",
   "execution_count": 2,
   "metadata": {},
   "outputs": [
    {
     "name": "stdout",
     "output_type": "stream",
     "text": [
      "position: POINT (197.4503 -23.3815)\n",
      "graceid: MS181101ab\n",
      "candidate_name: AT2017gfo\n",
      "tns_name: AT2017gfo\n",
      "tns_url: https://www.wis-tns.org/object/2017gfo\n",
      "ra: 197.4503\n",
      "dec: -23.3815\n",
      "discovery_date: 2017-08-17 23:31:12\n",
      "discovery_magnitude: 17.3\n",
      "magnitude_bandpass: 12\n",
      "magnitude_unit: AB mag\n",
      "associated_galaxy: NGC 4993\n",
      "associated_galaxy_redshift: 0.009727\n",
      "\n"
     ]
    }
   ],
   "source": [
    "import datetime\n",
    "from gwtm_api import Candidate\n",
    "from gwtm_api import enums as gwenums\n",
    "\n",
    "my_candidate = Candidate(\n",
    "    graceid=TEST_GRACEID,\n",
    "    candidate_name=\"AT2017gfo\",\n",
    "    tns_name=\"AT2017gfo\",\n",
    "    tns_url=\"https://www.wis-tns.org/object/2017gfo\",\n",
    "    ra=197.4503,\n",
    "    dec=-23.3815,\n",
    "    discovery_date=datetime.datetime(2017, 8, 17, 23, 31, 12),\n",
    "    discovery_magnitude=17.3,\n",
    "    magnitude_unit=gwenums.depth_unit.ab_mag,\n",
    "    magnitude_bandpass=gwenums.bandpass.i,\n",
    "    associated_galaxy=\"NGC 4993\",\n",
    "    associated_galaxy_redshift=0.009727\n",
    ")\n",
    "my_candidate.dump()"
   ]
  },
  {
   "cell_type": "code",
   "execution_count": 4,
   "metadata": {},
   "outputs": [
    {
     "ename": "Exception",
     "evalue": "It seems like you are trying to rePOST this record",
     "output_type": "error",
     "traceback": [
      "\u001b[0;31m---------------------------------------------------------------------------\u001b[0m",
      "\u001b[0;31mException\u001b[0m                                 Traceback (most recent call last)",
      "Cell \u001b[0;32mIn[4], line 2\u001b[0m\n\u001b[1;32m      1\u001b[0m \u001b[38;5;66;03m#post a single candidate\u001b[39;00m\n\u001b[0;32m----> 2\u001b[0m \u001b[43mmy_candidate\u001b[49m\u001b[38;5;241;43m.\u001b[39;49m\u001b[43mpost\u001b[49m\u001b[43m(\u001b[49m\u001b[43mapi_token\u001b[49m\u001b[38;5;241;43m=\u001b[39;49m\u001b[43mMY_API_TOKEN\u001b[49m\u001b[43m)\u001b[49m\n",
      "File \u001b[0;32m~/Work/git-clones/gwtm_api/src/gwtm_api/candidate.py:117\u001b[0m, in \u001b[0;36mCandidate.post\u001b[0;34m(self, api_token, graceid, base, api_version, verbose)\u001b[0m\n\u001b[1;32m    111\u001b[0m \u001b[38;5;28;01mdef\u001b[39;00m \u001b[38;5;21mpost\u001b[39m(\n\u001b[1;32m    112\u001b[0m         \u001b[38;5;28mself\u001b[39m, api_token: \u001b[38;5;28mstr\u001b[39m, graceid: \u001b[38;5;28mstr\u001b[39m \u001b[38;5;241m=\u001b[39m \u001b[38;5;28;01mNone\u001b[39;00m,\n\u001b[1;32m    113\u001b[0m         base: \u001b[38;5;28mstr\u001b[39m \u001b[38;5;241m=\u001b[39m \u001b[38;5;124m\"\u001b[39m\u001b[38;5;124mhttps://treasuremap.space/api/\u001b[39m\u001b[38;5;124m\"\u001b[39m, api_version: \u001b[38;5;28mstr\u001b[39m \u001b[38;5;241m=\u001b[39m\u001b[38;5;124m\"\u001b[39m\u001b[38;5;124mv1\u001b[39m\u001b[38;5;124m\"\u001b[39m,\n\u001b[1;32m    114\u001b[0m         verbose \u001b[38;5;241m=\u001b[39m \u001b[38;5;28;01mFalse\u001b[39;00m\n\u001b[1;32m    115\u001b[0m     ):\n\u001b[1;32m    116\u001b[0m     \u001b[38;5;28;01mif\u001b[39;00m \u001b[38;5;28misinstance\u001b[39m(\u001b[38;5;28mself\u001b[39m\u001b[38;5;241m.\u001b[39mid, \u001b[38;5;28mint\u001b[39m) \u001b[38;5;129;01mand\u001b[39;00m \u001b[38;5;28mself\u001b[39m\u001b[38;5;241m.\u001b[39mdatecreated:\n\u001b[0;32m--> 117\u001b[0m         \u001b[38;5;28;01mraise\u001b[39;00m \u001b[38;5;167;01mException\u001b[39;00m(\u001b[38;5;124m\"\u001b[39m\u001b[38;5;124mIt seems like you are trying to rePOST this record\u001b[39m\u001b[38;5;124m\"\u001b[39m)\n\u001b[1;32m    119\u001b[0m     \u001b[38;5;28;01mif\u001b[39;00m graceid \u001b[38;5;129;01mis\u001b[39;00m \u001b[38;5;28;01mNone\u001b[39;00m:\n\u001b[1;32m    120\u001b[0m         graceid \u001b[38;5;241m=\u001b[39m \u001b[38;5;28mself\u001b[39m\u001b[38;5;241m.\u001b[39mgraceid\n",
      "\u001b[0;31mException\u001b[0m: It seems like you are trying to rePOST this record"
     ]
    }
   ],
   "source": [
    "#post a single candidate\n",
    "my_candidate.post(api_token=MY_API_TOKEN, verbose=True)"
   ]
  },
  {
   "cell_type": "code",
   "execution_count": 5,
   "metadata": {},
   "outputs": [
    {
     "name": "stdout",
     "output_type": "stream",
     "text": [
      "position: POINT (-162.5497 -23.3815)\n",
      "graceid: MS181101ab\n",
      "candidate_name: AT2017gfo\n",
      "tns_name: AT2017gfo\n",
      "tns_url: https://www.wis-tns.org/object/2017gfo\n",
      "ra: -162.5497\n",
      "dec: -23.3815\n",
      "discovery_date: 2017-08-17 23:31:12\n",
      "discovery_magnitude: 17.3\n",
      "magnitude_bandpass: i\n",
      "magnitude_unit: ab_mag\n",
      "associated_galaxy: NGC 4993\n",
      "associated_galaxy_redshift: 0.009727\n",
      "id: 40\n",
      "datecreated: 2024-05-10 22:35:55.984768\n",
      "submitterid: 2\n",
      "magnitude_central_wave: 7836.21\n",
      "magnitude_bandwidth: 1468.29\n",
      "associated_galaxy_distance: None\n",
      "\n"
     ]
    }
   ],
   "source": [
    "my_candidate.dump()"
   ]
  },
  {
   "cell_type": "markdown",
   "metadata": {},
   "source": [
    "##### Batch Candidate Submission\n",
    "Here we will give examples of instantiating multiple Candidate objects and posting the list in a single request\n",
    "\n",
    "```python\n",
    "batch = [\n",
    "    Candidate(),\n",
    "    Candidate()\n",
    "]\n",
    "Candidate.batch_post(candidates=batch, api_token=\"...\", graceid=\"...\")\n",
    "```"
   ]
  },
  {
   "cell_type": "code",
   "execution_count": 8,
   "metadata": {},
   "outputs": [
    {
     "name": "stdout",
     "output_type": "stream",
     "text": [
      "{'candidate_ids': [43, 44], 'ERRORS': [], 'WARNINGS': []}\n"
     ]
    }
   ],
   "source": [
    "batch = [\n",
    "    Candidate(\n",
    "        position=\"POINT (24 48)\",\n",
    "        candidate_name=\"candidate_name1\",\n",
    "        discovery_date=\"2024-05-04T12:12:12.12Z\",\n",
    "        discovery_magnitude=17.5,\n",
    "        magnitude_unit=\"ab_mag\",\n",
    "        magnitude_bandpass=\"r\",\n",
    "    ),\n",
    "    Candidate(\n",
    "        ra=24,\n",
    "        dec=48,\n",
    "        candidate_name=\"candidate_name2\",\n",
    "        discovery_date=\"2024-05-05T12:12:12.12Z\",\n",
    "        discovery_magnitude=12e-10,\n",
    "        magnitude_unit=\"flux_erg\",\n",
    "        energy_regime=[0.1, 10],\n",
    "        energy_unit=gwenums.energy_units.keV\n",
    "    )\n",
    "]\n",
    "\n",
    "batch = Candidate.batch_post(candidates=batch, api_token=MY_API_TOKEN, graceid=TEST_GRACEID, verbose=True)"
   ]
  },
  {
   "cell_type": "code",
   "execution_count": 10,
   "metadata": {},
   "outputs": [
    {
     "name": "stdout",
     "output_type": "stream",
     "text": [
      "position: POINT (24 48)\n",
      "id: 43\n",
      "datecreated: 2024-05-10 22:49:45.187281\n",
      "submitterid: 2\n",
      "graceid: MS181101ab\n",
      "candidate_name: candidate_name1\n",
      "tns_name: \n",
      "tns_url: \n",
      "discovery_date: 2024-05-04 12:12:12.120000\n",
      "discovery_magnitude: 17.5\n",
      "magnitude_central_wave: 6415.4\n",
      "magnitude_bandwidth: 1487.58\n",
      "magnitude_unit: ab_mag\n",
      "magnitude_bandpass: r\n",
      "associated_galaxy: \n",
      "associated_galaxy_redshift: None\n",
      "associated_galaxy_distance: None\n",
      "ra: 24.0\n",
      "dec: 48.0\n",
      "\n",
      "position: POINT (24 48)\n",
      "id: 44\n",
      "datecreated: 2024-05-10 22:49:45.187699\n",
      "submitterid: 2\n",
      "graceid: MS181101ab\n",
      "candidate_name: candidate_name2\n",
      "tns_name: \n",
      "tns_url: \n",
      "discovery_date: 2024-05-05 12:12:12.120000\n",
      "discovery_magnitude: 1.2e-11\n",
      "magnitude_central_wave: 1.2398\n",
      "magnitude_bandwidth: 0.0\n",
      "magnitude_unit: flux_erg\n",
      "magnitude_bandpass: BAT\n",
      "associated_galaxy: \n",
      "associated_galaxy_redshift: None\n",
      "associated_galaxy_distance: None\n",
      "ra: 24.0\n",
      "dec: 48.0\n",
      "\n"
     ]
    }
   ],
   "source": [
    "for b in batch:\n",
    "    b.dump()"
   ]
  },
  {
   "cell_type": "markdown",
   "metadata": {},
   "source": [
    "#### Querying for submitted candidates\n",
    "Here we will give examples for utilizing the `gwtm_api.Candidate.get()` method to search for existing candidates."
   ]
  },
  {
   "cell_type": "code",
   "execution_count": 13,
   "metadata": {},
   "outputs": [
    {
     "name": "stdout",
     "output_type": "stream",
     "text": [
      "6\n",
      "position: POINT (-162.5497 -23.3815)\n",
      "id: 39\n",
      "datecreated: 2024-05-10 22:33:00.866643\n",
      "submitterid: 2\n",
      "graceid: MS181101ab\n",
      "candidate_name: AT2017gfo\n",
      "tns_name: AT2017gfo\n",
      "tns_url: https://www.wis-tns.org/object/2017gfo\n",
      "discovery_date: 2017-08-17 23:31:12\n",
      "discovery_magnitude: 17.3\n",
      "magnitude_central_wave: 7836.21\n",
      "magnitude_bandwidth: 1468.29\n",
      "magnitude_unit: ab_mag\n",
      "magnitude_bandpass: i\n",
      "associated_galaxy: NGC 4993\n",
      "associated_galaxy_redshift: 0.009727\n",
      "associated_galaxy_distance: None\n",
      "ra: -162.5497\n",
      "dec: -23.3815\n",
      "\n"
     ]
    }
   ],
   "source": [
    "queried_candidates = Candidate.get(api_token=MY_API_TOKEN, graceid=TEST_GRACEID)\n",
    "print(len(queried_candidates))\n",
    "\n",
    "queried_candidates[0].dump()"
   ]
  },
  {
   "cell_type": "markdown",
   "metadata": {},
   "source": [
    "##### Further filtering options\n",
    "- `id: int` - candidate id\n",
    "- `ids: list[int]` - list of candidate ids\n",
    "- `submitted_date_after: str | datetime.datetime` -  candidates created after or on a specified datetime\n",
    "- `submitted_date_before: str | datetime.datetime` - candidates created before or on a specified datetime\n",
    "- `discovery_date_after: str | datetime.datetime` - candidates discovered after or on a specified datetime\n",
    "- `discovery_date_after: str | datetime.datetime` - candidates discovered after or on a specified datetime\n",
    "- `discovery_magnitude_gt: float` - candidates with magnitude greater than (or equal) specified value\n",
    "- `discovery_magnitude_lt: float` - candidates with magnitude lesser than (or equal) specified value\n",
    "- `associated_galaxy_redshift_gt: float` - candidates with associated_galaxy_redshift greater than (or equal) specified value\n",
    "- `associated_galaxy_redshift_lt: float` - candidates with associated_galaxy_redshift lesser than (or equal) specified value\n",
    "- `associated_galaxy_distance_gt: float` - candidates with associated_galaxy_distance greater than (or equal) specified value\n",
    "- `associated_galaxy_distance_lt: float` - candidates with associated_galaxy_distance lesser than (or equal) specified value"
   ]
  },
  {
   "cell_type": "markdown",
   "metadata": {},
   "source": [
    "#### Altering your submitted candidates\n",
    "Here we will give examples for utilizing the `gwtm_api.Candidate.put()` method to search for existing candidates."
   ]
  },
  {
   "cell_type": "code",
   "execution_count": null,
   "metadata": {},
   "outputs": [],
   "source": []
  },
  {
   "cell_type": "markdown",
   "metadata": {},
   "source": [
    "#### Deleting you submitted candidates\n",
    "Here we will give examples for utilizing the `gwtm_api.Candidate.delete()` and `gwtm_api.Candidate.batch_delete()` methods to search for existing candidates."
   ]
  },
  {
   "cell_type": "code",
   "execution_count": 15,
   "metadata": {},
   "outputs": [
    {
     "name": "stdout",
     "output_type": "stream",
     "text": [
      "whats up {'whats_UP': 'boogers'}\n"
     ]
    }
   ],
   "source": [
    "class mytest:\n",
    "    pass\n",
    "\n",
    "cali = mytest()\n",
    "cali.whats_UP = \"boogers\"\n",
    "print(f\"whats up {cali.__dict__}\")"
   ]
  },
  {
   "cell_type": "markdown",
   "metadata": {},
   "source": []
  }
 ],
 "metadata": {
  "kernelspec": {
   "display_name": "gwtm_api_test",
   "language": "python",
   "name": "python3"
  },
  "language_info": {
   "codemirror_mode": {
    "name": "ipython",
    "version": 3
   },
   "file_extension": ".py",
   "mimetype": "text/x-python",
   "name": "python",
   "nbconvert_exporter": "python",
   "pygments_lexer": "ipython3",
   "version": "3.11.9"
  }
 },
 "nbformat": 4,
 "nbformat_minor": 2
}
